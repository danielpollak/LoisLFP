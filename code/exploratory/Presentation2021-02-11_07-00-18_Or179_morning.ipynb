{
 "cells": [
  {
   "cell_type": "markdown",
   "metadata": {},
   "source": [
    "# Local field potentials\n",
    "\n",
    "The \"superposition\" signal of all electrical fields at a point in space.\n",
    "\n",
    "<img src=\"https://upload.wikimedia.org/wikipedia/commons/thumb/8/8d/SimulationNeuralOscillations.png/600px-SimulationNeuralOscillations.png\" width=400>\n",
    "<sub>https://upload.wikimedia.org/wikipedia/commons/thumb/8/8d/SimulationNeuralOscillations.png/600px-SimulationNeuralOscillations.png<sub>"
   ]
  },
  {
   "cell_type": "markdown",
   "metadata": {},
   "source": [
    "# How do LFPs arise?\n",
    "\n",
    "- The \"drumbeat\" of the brain has many tempos- many individual drummers (neurons) for each frequency\n",
    "\n",
    "- We can look at slow drummers (low frequencies) and fast drummers (high frequencies) and ask, how synchronized are you?\n",
    "\n",
    "- If they are out of sync, the drummers won't be very loud. If the neurons are out of sync at that frequency, the LFP will be weak.\n",
    "\n",
    "- If they are in sync, they will be loud, and if the neurons are in sync at that frequency, the LFP power will be strong.\n",
    "\n",
    "- Remember, the low frequency drummers can be out of sync and the high frequency drummers can be in sync and visa versa."
   ]
  },
  {
   "cell_type": "markdown",
   "metadata": {},
   "source": [
    "# What do LFPs mean?\n",
    "## Disclaimer: not much, usually.\n",
    "Especially because these signals are usually recorded on the scalp using electroencephalogram (EEG). We are recording inside the brain, so little is known about what they mean, especially so for birds.\n",
    "\n",
    "<img src=\"http://psychedelic-information-theory.com/upload/img/eeg-bands.jpg\" width=400>\n",
    "$^{http://psychedelic-information-theory.com/upload/img/eeg-bands.jpg}$\n",
    "\n",
    "# What do these usually mean?\n",
    "- Beta/gamma: Alertness, consciousness\n",
    "- Alpha: Close your eyes and try to slow your thoughts. Your alpha band might have just gone up. Alpha is associated with meditation.\n",
    "- Delta/theta: Deep sleep"
   ]
  },
  {
   "cell_type": "markdown",
   "metadata": {},
   "source": [
    "- Can we find correlates of singing in LFP data?\n",
    "- If so, can we find differences between LFP data from days before degradation and during and after?\n",
    "- And is this effect due to gliosis (control comparison) and does this effect differ between nonselective Tetx and interneurons specifically?"
   ]
  },
  {
   "cell_type": "markdown",
   "metadata": {},
   "source": [
    "## Analysis questions\n",
    "Motivate analyis\n",
    "Tlak about how rich the dataset is (its structure)\n",
    "Talk about how we are expanding on tim's work with LFps\n",
    "What's exciting to Zs is that it is behavior and physiology at the same itme\n",
    "ot hypotheis proving or disproving\n",
    "\n",
    "- Can we find a correlate of singing in HVC LFPs?\n",
    "    - Mention Tim's paper, should be feasible with averaging\n",
    "    - Averaging is difficult with our setup (65 trials without time warping), may require use of Tweetynet or automated\n",
    "    \n",
    "![Mesoscopic paper](https://journals.plos.org/plosbiology/article/figure/image?size=inline&id=info:doi/10.1371/journal.pbio.1002158.g003)\n",
    "\n",
    "- How does it change with degradation?\n",
    "- Is there natural drift for control birds?\n",
    "    - e.g. Due to gliosis around the recording sites\n",
    "    - We expect low-frequency changes\n",
    "- If so, can we find a similar correlate in sleep?\n",
    "\n"
   ]
  },
  {
   "cell_type": "code",
   "execution_count": null,
   "metadata": {},
   "outputs": [],
   "source": []
  }
 ],
 "metadata": {
  "kernelspec": {
   "display_name": "Python 3",
   "language": "python",
   "name": "python3"
  },
  "language_info": {
   "codemirror_mode": {
    "name": "ipython",
    "version": 3
   },
   "file_extension": ".py",
   "mimetype": "text/x-python",
   "name": "python",
   "nbconvert_exporter": "python",
   "pygments_lexer": "ipython3",
   "version": "3.8.5"
  }
 },
 "nbformat": 4,
 "nbformat_minor": 4
}
