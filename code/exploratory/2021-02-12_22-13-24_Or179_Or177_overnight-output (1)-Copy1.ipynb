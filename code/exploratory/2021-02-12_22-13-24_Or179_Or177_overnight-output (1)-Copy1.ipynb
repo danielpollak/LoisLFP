{
 "cells": [
  {
   "cell_type": "code",
   "execution_count": null,
   "metadata": {},
   "outputs": [],
   "source": [
    "import os\n",
    "\n",
    "import numpy as np\n",
    "import pandas as pd\n",
    "import spikeextractors as se\n",
    "import spiketoolkit as st\n",
    "import spikewidgets as sw\n",
    "\n",
    "import tqdm.notebook as tqdm\n",
    "from scipy.signal import periodogram, spectrogram\n",
    "\n",
    "import matplotlib.pyplot as plt\n",
    "# %matplotlib inline\n",
    "# %config InlineBackend.figure_format='retina'\n",
    "\n",
    "import panel as pn\n",
    "import panel.widgets as pnw\n",
    "\n",
    "pn.extension()\n",
    "\n",
    "from utils import *"
   ]
  },
  {
   "cell_type": "code",
   "execution_count": null,
   "metadata": {},
   "outputs": [],
   "source": [
    "# Path to the data folder in the repo\n",
    "\n",
    "data_path = r\"\"\n",
    "\n",
    "\n",
    "\n",
    "\n",
    "# !!! start assign jupyter notebook parameter(s) !!!\n",
    "\n",
    "data_path = '2021-02-12_22-13-24_Or179_Or177_overnight'\n",
    "\n",
    "# !!! end assign jupyter notebook parameter(s) !!!"
   ]
  },
  {
   "cell_type": "code",
   "execution_count": null,
   "metadata": {},
   "outputs": [],
   "source": [
    "\n",
    "# Path to the raw data in the hard drive\n",
    "with open(os.path.join(data_path, 'LFP_location.txt')) as f:    \n",
    "    OE_data_path = f.read()"
   ]
  },
  {
   "cell_type": "markdown",
   "metadata": {},
   "source": [
    "### Get each bird's recording, and their microphone channels"
   ]
  },
  {
   "cell_type": "code",
   "execution_count": null,
   "metadata": {},
   "outputs": [],
   "source": [
    "# Whole recording from the hard drive\n",
    "recording = se.BinDatRecordingExtractor(OE_data_path,30000,40, dtype='int16')\n",
    "\n",
    "# Note I am adding relevant ADC channels\n",
    "# First bird\n",
    "Or179_recording = se.SubRecordingExtractor(recording,channel_ids=[0, 1, 2, 3, 4, 5, 6, 7, 8, 9, 10,11,12,13,14,15, 32])\n",
    "\n",
    "# Second bird\n",
    "Or177_recording = se.SubRecordingExtractor(recording,channel_ids=[16, 17,18,19,20,21,22,23,24,25,26,27,28,29,30,31, 33])\n",
    "\n",
    "# Bandpass fiter microphone recoridngs\n",
    "mic_recording = st.preprocessing.bandpass_filter(\n",
    "    se.SubRecordingExtractor(recording,channel_ids=[32,33]),\n",
    "    freq_min=500,\n",
    "    freq_max=1400\n",
    ")"
   ]
  },
  {
   "cell_type": "code",
   "execution_count": null,
   "metadata": {},
   "outputs": [],
   "source": [
    "# Get wav files\n",
    "wav_names = [file_name for file_name in os.listdir(data_path) if file_name.endswith('.wav')]\n",
    "wav_paths = [os.path.join(data_path,wav_name) for wav_name in wav_names]\n",
    "\n",
    "# Get tranges for wav files in the actual recording\n",
    "# OE_data_path actually contains the path all the way to the .bin. We just need the parent directory\n",
    "# with the timestamp.\n",
    "\n",
    "# Split up the path\n",
    "OE_data_path_split= OE_data_path.split(os.sep)\n",
    "\n",
    "# Take only the first three. os.path is weird so we manually add the separator after the \n",
    "# drive name.\n",
    "OE_parent_path = os.path.join(OE_data_path_split[0] + os.sep, *OE_data_path_split[1:3])\n",
    "\n",
    "# Get all time ranges given the custom offset.\n",
    "tranges=np.array([\n",
    "    get_trange(OE_parent_path, path, offset=datetime.timedelta(seconds=0), duration=3) \n",
    "    for path in wav_paths])\n"
   ]
  },
  {
   "cell_type": "code",
   "execution_count": null,
   "metadata": {},
   "outputs": [],
   "source": [
    "wav_df = pd.DataFrame({'wav_paths':wav_paths, 'wav_names':wav_names, 'trange0':tranges[:, 0], 'trange1':tranges[:, 1]})\n",
    "wav_df.head()"
   ]
  },
  {
   "cell_type": "markdown",
   "metadata": {},
   "source": [
    "Connect the wav files to the recording. Manually input to gut check yourself. If it is before 2021 02 21 at 11:00 am PST, you need to add a time delay."
   ]
  },
  {
   "cell_type": "code",
   "execution_count": null,
   "metadata": {},
   "outputs": [],
   "source": [
    "wav_f,_,_,_=wav_df.loc[0,:]\n",
    "wav_f, data_path\n",
    "datetime.datetime(2021,2,23,8,11,1) - datetime.datetime(2021, 2, 22,22,0,20) "
   ]
  },
  {
   "cell_type": "code",
   "execution_count": null,
   "metadata": {},
   "outputs": [],
   "source": [
    "paths, name, tr0, tr1 = wav_df.loc[0,:]\n",
    "sw.plot_spectrogram(mic_recording, trange= [tr0,tr1+10], freqrange=[300,4000], nfft=2**10, channel=32)"
   ]
  },
  {
   "cell_type": "code",
   "execution_count": null,
   "metadata": {},
   "outputs": [],
   "source": [
    "np.linspace(0,130,14)"
   ]
  },
  {
   "cell_type": "code",
   "execution_count": null,
   "metadata": {},
   "outputs": [],
   "source": [
    "# Set up widgets\n",
    "wav_selector = pnw.Select(options=list(range(len(wav_df))), name=\"Select song file\")\n",
    "# offset_selector = pnw.Select(options=np.linspace(-10,10,21).tolist(), name=\"Select offset\")\n",
    "window_radius_selector = pnw.Select(options=[10,20,30,40,60], name=\"Select window radius\")\n",
    "spect_chan_selector = pnw.Select(options=list(range(16)), name=\"Spectrogram channel\")\n",
    "spect_freq_lo = pnw.Select(options=np.linspace(0,130,14).tolist(), name=\"Low frequency for spectrogram (Hz)\")\n",
    "spect_freq_hi = pnw.Select(options=np.linspace(130,0,14).tolist(), name=\"Hi frequency for spectrogram (Hz)\")\n",
    "log_nfft_selector = pnw.Select(options=np.linspace(10,16,7).tolist(), name=\"magnitude of nfft (starts at 256)\")\n",
    "\n",
    "@pn.depends(\n",
    "    wav_selector=wav_selector.param.value,\n",
    "#     offset=offset_selector.param.value,\n",
    "    window_radius=window_radius_selector.param.value,\n",
    "    spect_chan=spect_chan_selector.param.value,\n",
    "    spect_freq_lo=spect_freq_lo.param.value,\n",
    "    spect_freq_hi=spect_freq_hi.param.value,\n",
    "    log_nfft=log_nfft_selector.param.value\n",
    ")\n",
    "def create_figure(wav_selector, \n",
    "#                   offset,\n",
    "                  window_radius, spect_chan,\n",
    "                  spect_freq_lo, spect_freq_hi, log_nfft):\n",
    "    \n",
    "    # Each column in each row to a tuple that we unpack\n",
    "    wav_file_path, wav_file_name, tr0, tr1 = wav_df.loc[wav_selector,:]\n",
    "        \n",
    "    # Set up figure\n",
    "    fig,axes = plt.subplots(4,1, figsize=(16,12))\n",
    "    \n",
    "    # Get wav file numpy recording object\n",
    "    wav_recording = get_wav_recording(wav_file_path)\n",
    "    \n",
    "    # Apply offset and apply window radius\n",
    "    offset = 0\n",
    "    tr0 = tr0+ offset-window_radius\n",
    "    # Add duration of wav file\n",
    "    tr1 = tr1+ offset+window_radius+wav_recording.get_num_frames()/wav_recording.get_sampling_frequency()\n",
    "    \n",
    "    \n",
    "    '''Plot sound spectrogram (Hi fi mic)'''\n",
    "    sw.plot_spectrogram(wav_recording, channel=0, freqrange=[300,14000],ax=axes[0])\n",
    "    axes[0].set_title('Hi fi mic spectrogram')\n",
    "    \n",
    "    '''Plot sound spectrogram (Lo fi mic)''' \n",
    "    if 'Or179' in wav_file_name:\n",
    "        LFP_recording = Or179_recording\n",
    "    elif 'Or177' in wav_file_name:\n",
    "        LFP_recording = Or177_recording\n",
    "    \n",
    "    mic_channel = LFP_recording.get_channel_ids()[-1]\n",
    "    \n",
    "    sw.plot_spectrogram(\n",
    "        mic_recording,\n",
    "        mic_channel,\n",
    "        trange=[tr0, tr1],\n",
    "        freqrange=[600,4000],\n",
    "        ax=axes[1]\n",
    "    )\n",
    "    \n",
    "    axes[1].set_title('Lo fi mic spectrogram')\n",
    "    \n",
    "    '''Plot LFP timeseries'''\n",
    "    chan_ids = np.array([LFP_recording.get_channel_ids()]).flatten()\n",
    "    sw.plot_timeseries(\n",
    "        LFP_recording,\n",
    "        channel_ids=chan_ids[1:4],\n",
    "        trange=[tr0, tr1],\n",
    "        ax=axes[2]\n",
    "    )\n",
    "    axes[2].set_title('Raw LFP')\n",
    "    \n",
    "    # Clean lines\n",
    "    for line in plt.gca().lines:\n",
    "        line.set_linewidth(0.5)    \n",
    "    \n",
    "    '''Plot LFP spectrogram'''\n",
    "    sw.plot_spectrogram(\n",
    "        LFP_recording,\n",
    "        channel=chan_ids[spect_chan],\n",
    "        freqrange=[spect_freq_lo,spect_freq_hi],\n",
    "        trange=[tr0, tr1],\n",
    "        ax=axes[3],\n",
    "        nfft=int(2**log_nfft)\n",
    "    )\n",
    "    axes[3].set_title('LFP')\n",
    "    \n",
    "    for i, ax in enumerate(axes):\n",
    "        ax.set_yticks([ax.get_ylim()[1]])\n",
    "        ax.set_yticklabels([ax.get_ylim()[1]])\n",
    "        ax.set_xlabel('')\n",
    "        \n",
    "    # Show 30 Hz\n",
    "    ax.set_yticks([30, ax.get_ylim()[1]])\n",
    "    ax.set_yticklabels([30, ax.get_ylim()[1]])\n",
    "            \n",
    "    \n",
    "    return fig"
   ]
  },
  {
   "cell_type": "code",
   "execution_count": null,
   "metadata": {},
   "outputs": [],
   "source": [
    "text = pnw.StaticText(value=\"<h3>OR177 Data Analysis Dashboard</h3>\", align=\"center\")\n",
    "dash = pn.Column(\n",
    "    text,\n",
    "    pn.Row(wav_selector,\n",
    "#            offset_selector,\n",
    "           window_radius_selector,spect_chan_selector),\n",
    "    pn.Row(spect_freq_lo,spect_freq_hi,log_nfft_selector),\n",
    "    create_figure\n",
    ");"
   ]
  },
  {
   "cell_type": "code",
   "execution_count": null,
   "metadata": {},
   "outputs": [],
   "source": [
    "dash"
   ]
  },
  {
   "cell_type": "code",
   "execution_count": null,
   "metadata": {},
   "outputs": [],
   "source": []
  }
 ],
 "metadata": {
  "kernelspec": {
   "display_name": "Python 3",
   "language": "python",
   "name": "python3"
  },
  "language_info": {
   "codemirror_mode": {
    "name": "ipython",
    "version": 3
   },
   "file_extension": ".py",
   "mimetype": "text/x-python",
   "name": "python",
   "nbconvert_exporter": "python",
   "pygments_lexer": "ipython3",
   "version": "3.8.5"
  }
 },
 "nbformat": 4,
 "nbformat_minor": 4
}
